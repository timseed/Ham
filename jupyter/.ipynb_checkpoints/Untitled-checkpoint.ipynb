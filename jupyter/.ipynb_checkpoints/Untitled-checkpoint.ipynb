{
 "cells": [
  {
   "cell_type": "code",
   "execution_count": 19,
   "metadata": {},
   "outputs": [],
   "source": [
    "import pandas as pd\n",
    "import numpy as np\n",
    "import pickle\n",
    "# Read the Pickle file\n",
    "ft8_data=pickle.load(open(\"Myft8Spots.pkl\",\"rb\"))\n",
    "# Cheery pick just the propery dictionary from the GeoJSON data\n",
    "qso=[n['properties'] for n in dict(ft8_data)['features']]\n",
    "# Make a small data frame\n",
    "df=pd.DataFrame.from_records(qso)"
   ]
  },
  {
   "cell_type": "code",
   "execution_count": 20,
   "metadata": {},
   "outputs": [
    {
     "data": {
      "text/html": [
       "<div>\n",
       "<style scoped>\n",
       "    .dataframe tbody tr th:only-of-type {\n",
       "        vertical-align: middle;\n",
       "    }\n",
       "\n",
       "    .dataframe tbody tr th {\n",
       "        vertical-align: top;\n",
       "    }\n",
       "\n",
       "    .dataframe thead th {\n",
       "        text-align: right;\n",
       "    }\n",
       "</style>\n",
       "<table border=\"1\" class=\"dataframe\">\n",
       "  <thead>\n",
       "    <tr style=\"text-align: right;\">\n",
       "      <th></th>\n",
       "      <th>band</th>\n",
       "      <th>call</th>\n",
       "      <th>when</th>\n",
       "      <th>distance</th>\n",
       "      <th>heading</th>\n",
       "    </tr>\n",
       "  </thead>\n",
       "  <tbody>\n",
       "    <tr>\n",
       "      <th>0</th>\n",
       "      <td>40</td>\n",
       "      <td>JP7RTJ</td>\n",
       "      <td>10</td>\n",
       "      <td>3342.228670</td>\n",
       "      <td>32.070216</td>\n",
       "    </tr>\n",
       "    <tr>\n",
       "      <th>1</th>\n",
       "      <td>20</td>\n",
       "      <td>BG7BDB</td>\n",
       "      <td>10</td>\n",
       "      <td>1784.337242</td>\n",
       "      <td>334.593156</td>\n",
       "    </tr>\n",
       "    <tr>\n",
       "      <th>2</th>\n",
       "      <td>40</td>\n",
       "      <td>YE0TUR</td>\n",
       "      <td>10</td>\n",
       "      <td>2850.978689</td>\n",
       "      <td>213.300844</td>\n",
       "    </tr>\n",
       "    <tr>\n",
       "      <th>3</th>\n",
       "      <td>20</td>\n",
       "      <td>BD7BS</td>\n",
       "      <td>10</td>\n",
       "      <td>1784.337242</td>\n",
       "      <td>334.593156</td>\n",
       "    </tr>\n",
       "    <tr>\n",
       "      <th>4</th>\n",
       "      <td>20</td>\n",
       "      <td>BH8PHG</td>\n",
       "      <td>10</td>\n",
       "      <td>1979.938553</td>\n",
       "      <td>316.099033</td>\n",
       "    </tr>\n",
       "  </tbody>\n",
       "</table>\n",
       "</div>"
      ],
      "text/plain": [
       "   band    call  when     distance     heading\n",
       "0    40  JP7RTJ    10  3342.228670   32.070216\n",
       "1    20  BG7BDB    10  1784.337242  334.593156\n",
       "2    40  YE0TUR    10  2850.978689  213.300844\n",
       "3    20   BD7BS    10  1784.337242  334.593156\n",
       "4    20  BH8PHG    10  1979.938553  316.099033"
      ]
     },
     "execution_count": 20,
     "metadata": {},
     "output_type": "execute_result"
    }
   ],
   "source": [
    "df.head()"
   ]
  },
  {
   "cell_type": "code",
   "execution_count": 21,
   "metadata": {},
   "outputs": [],
   "source": [
    "# Remove the non Contest Bands\n",
    "df=df.query('band != 12').query('band != 18').query('band !=30')"
   ]
  },
  {
   "cell_type": "markdown",
   "metadata": {},
   "source": [
    "# See how much per band per hour\n",
    "\n",
    "We would expect the lower bands to be better during darkness."
   ]
  },
  {
   "cell_type": "code",
   "execution_count": 48,
   "metadata": {},
   "outputs": [],
   "source": [
    "df_band_hour = pd.DataFrame(df.groupby(['band','when'])['call'].size().to_frame('traffic'))"
   ]
  },
  {
   "cell_type": "code",
   "execution_count": 49,
   "metadata": {},
   "outputs": [
    {
     "data": {
      "text/html": [
       "<div>\n",
       "<style scoped>\n",
       "    .dataframe tbody tr th:only-of-type {\n",
       "        vertical-align: middle;\n",
       "    }\n",
       "\n",
       "    .dataframe tbody tr th {\n",
       "        vertical-align: top;\n",
       "    }\n",
       "\n",
       "    .dataframe thead th {\n",
       "        text-align: right;\n",
       "    }\n",
       "</style>\n",
       "<table border=\"1\" class=\"dataframe\">\n",
       "  <thead>\n",
       "    <tr style=\"text-align: right;\">\n",
       "      <th></th>\n",
       "      <th>band</th>\n",
       "      <th>when</th>\n",
       "      <th>traffic</th>\n",
       "    </tr>\n",
       "  </thead>\n",
       "  <tbody>\n",
       "    <tr>\n",
       "      <th>0</th>\n",
       "      <td>10</td>\n",
       "      <td>0</td>\n",
       "      <td>2</td>\n",
       "    </tr>\n",
       "    <tr>\n",
       "      <th>1</th>\n",
       "      <td>10</td>\n",
       "      <td>8</td>\n",
       "      <td>2</td>\n",
       "    </tr>\n",
       "    <tr>\n",
       "      <th>2</th>\n",
       "      <td>10</td>\n",
       "      <td>9</td>\n",
       "      <td>6</td>\n",
       "    </tr>\n",
       "    <tr>\n",
       "      <th>3</th>\n",
       "      <td>10</td>\n",
       "      <td>10</td>\n",
       "      <td>21</td>\n",
       "    </tr>\n",
       "    <tr>\n",
       "      <th>4</th>\n",
       "      <td>10</td>\n",
       "      <td>11</td>\n",
       "      <td>21</td>\n",
       "    </tr>\n",
       "  </tbody>\n",
       "</table>\n",
       "</div>"
      ],
      "text/plain": [
       "   band  when  traffic\n",
       "0    10     0        2\n",
       "1    10     8        2\n",
       "2    10     9        6\n",
       "3    10    10       21\n",
       "4    10    11       21"
      ]
     },
     "execution_count": 49,
     "metadata": {},
     "output_type": "execute_result"
    }
   ],
   "source": [
    "df_band_hour.replace(np.NaN,0,inplace=True)\n",
    "df_band_hour.reset_index(inplace=True)\n",
    "#df_band_hour.set_index('band',inplace=True)\n",
    "df_band_hour.head()"
   ]
  },
  {
   "cell_type": "markdown",
   "metadata": {},
   "source": [
    "# Lets Graph this "
   ]
  },
  {
   "cell_type": "code",
   "execution_count": 50,
   "metadata": {},
   "outputs": [],
   "source": [
    "import matplotlib.pyplot as plt "
   ]
  },
  {
   "cell_type": "code",
   "execution_count": 51,
   "metadata": {},
   "outputs": [
    {
     "data": {
      "text/plain": [
       "<pandas.core.indexing._iLocIndexer at 0x1178a14a0>"
      ]
     },
     "execution_count": 51,
     "metadata": {},
     "output_type": "execute_result"
    }
   ],
   "source": [
    "df_band_hour.iloc"
   ]
  },
  {
   "cell_type": "code",
   "execution_count": 52,
   "metadata": {},
   "outputs": [
    {
     "data": {
      "image/png": "[encoded data removed]",
      "text/plain": [
       "<Figure size 432x288 with 1 Axes>"
      ]
     },
     "metadata": {
      "needs_background": "light"
     },
     "output_type": "display_data"
    }
   ],
   "source": [
    "df_band_hour.plot(kind='line')\n",
    "plt.ylabel('traffic')\n",
    "plt.xlabel=('when')\n",
    "plt.show()"
   ]
  },
  {
   "cell_type": "code",
   "execution_count": 54,
   "metadata": {},
   "outputs": [
    {
     "data": {
      "text/plain": [
       "<matplotlib.axes._subplots.AxesSubplot at 0x1177d6460>"
      ]
     },
     "execution_count": 54,
     "metadata": {},
     "output_type": "execute_result"
    },
    {
     "data": {
      "image/png": "[encoded data removed]",
      "text/plain": [
       "<Figure size 432x288 with 1 Axes>"
      ]
     },
     "metadata": {
      "needs_background": "light"
     },
     "output_type": "display_data"
    }
   ],
   "source": [
    "\n",
    "fig, axes = plt.subplots(nrows=2, ncols=2)\n",
    "\n",
    "df1.plot(ax=axes[0,0])\n",
    "df2.plot(ax=axes[0,1])\n",
    "\n",
    "df_band_hour[df_band_hour.band==10].plot(x='when', y='traffic',kind='line',ax=axes=[0,0])"
   ]
  },
  {
   "cell_type": "code",
   "execution_count": 71,
   "metadata": {},
   "outputs": [
    {
     "data": {
      "image/png": "[encoded data removed]",
      "text/plain": [
       "<Figure size 432x288 with 6 Axes>"
      ]
     },
     "metadata": {
      "needs_background": "light"
     },
     "output_type": "display_data"
    }
   ],
   "source": [
    "#fig, axes = plt.subplots(nrows=2, ncols=2,sharex=True)\n",
    "fig, axs = plt.subplots(3,2,sharex=True)\n",
    "df_band_hour[df_band_hour.band==10].plot(x='when', y='traffic',kind='line', ax=axs[0,0])\n",
    "plt.title('10m')\n",
    "df_band_hour[df_band_hour.band==15].plot(x='when', y='traffic',kind='line', ax=axs[0,1])\n",
    "plt.title('15m')\n",
    "df_band_hour[df_band_hour.band==20].plot(x='when', y='traffic',kind='line',ax=axs[1,0])\n",
    "plt.title('20m')\n",
    "df_band_hour[df_band_hour.band==40].plot(x='when', y='traffic',kind='line', ax=axs[1,1])\n",
    "plt.title('40m')\n",
    "df_band_hour[df_band_hour.band==80].plot(x='when', y='traffic',kind='line', ax=axs[2,1])\n",
    "plt.title('80m')\n",
    "plt.show()\n",
    "\n"
   ]
  },
  {
   "cell_type": "code",
   "execution_count": 56,
   "metadata": {},
   "outputs": [
    {
     "data": {
      "text/plain": [
       "\u001b[0;31mSignature:\u001b[0m      \u001b[0mdf_band_hour\u001b[0m\u001b[0;34m.\u001b[0m\u001b[0mplot\u001b[0m\u001b[0;34m(\u001b[0m\u001b[0;34m*\u001b[0m\u001b[0margs\u001b[0m\u001b[0;34m,\u001b[0m \u001b[0;34m**\u001b[0m\u001b[0mkwargs\u001b[0m\u001b[0;34m)\u001b[0m\u001b[0;34m\u001b[0m\u001b[0;34m\u001b[0m\u001b[0m\n",
       "\u001b[0;31mType:\u001b[0m           PlotAccessor\n",
       "\u001b[0;31mString form:\u001b[0m    <pandas.plotting._core.PlotAccessor object at 0x11772ac40>\n",
       "\u001b[0;31mFile:\u001b[0m           ~/pe38/lib/python3.8/site-packages/pandas/plotting/_core.py\n",
       "\u001b[0;31mDocstring:\u001b[0m     \n",
       "Make plots of Series or DataFrame.\n",
       "\n",
       "Uses the backend specified by the\n",
       "option ``plotting.backend``. By default, matplotlib is used.\n",
       "\n",
       "Parameters\n",
       "----------\n",
       "data : Series or DataFrame\n",
       "    The object for which the method is called.\n",
       "x : label or position, default None\n",
       "    Only used if data is a DataFrame.\n",
       "y : label, position or list of label, positions, default None\n",
       "    Allows plotting of one column versus another. Only used if data is a\n",
       "    DataFrame.\n",
       "kind : str\n",
       "    The kind of plot to produce:\n",
       "\n",
       "    - 'line' : line plot (default)\n",
       "    - 'bar' : vertical bar plot\n",
       "    - 'barh' : horizontal bar plot\n",
       "    - 'hist' : histogram\n",
       "    - 'box' : boxplot\n",
       "    - 'kde' : Kernel Density Estimation plot\n",
       "    - 'density' : same as 'kde'\n",
       "    - 'area' : area plot\n",
       "    - 'pie' : pie plot\n",
       "    - 'scatter' : scatter plot\n",
       "    - 'hexbin' : hexbin plot.\n",
       "\n",
       "figsize : a tuple (width, height) in inches\n",
       "use_index : bool, default True\n",
       "    Use index as ticks for x axis.\n",
       "title : str or list\n",
       "    Title to use for the plot. If a string is passed, print the string\n",
       "    at the top of the figure. If a list is passed and `subplots` is\n",
       "    True, print each item in the list above the corresponding subplot.\n",
       "grid : bool, default None (matlab style default)\n",
       "    Axis grid lines.\n",
       "legend : bool or {'reverse'}\n",
       "    Place legend on axis subplots.\n",
       "style : list or dict\n",
       "    The matplotlib line style per column.\n",
       "logx : bool or 'sym', default False\n",
       "    Use log scaling or symlog scaling on x axis.\n",
       "    .. versionchanged:: 0.25.0\n",
       "\n",
       "logy : bool or 'sym' default False\n",
       "    Use log scaling or symlog scaling on y axis.\n",
       "    .. versionchanged:: 0.25.0\n",
       "\n",
       "loglog : bool or 'sym', default False\n",
       "    Use log scaling or symlog scaling on both x and y axes.\n",
       "    .. versionchanged:: 0.25.0\n",
       "\n",
       "xticks : sequence\n",
       "    Values to use for the xticks.\n",
       "yticks : sequence\n",
       "    Values to use for the yticks.\n",
       "xlim : 2-tuple/list\n",
       "ylim : 2-tuple/list\n",
       "rot : int, default None\n",
       "    Rotation for ticks (xticks for vertical, yticks for horizontal\n",
       "    plots).\n",
       "fontsize : int, default None\n",
       "    Font size for xticks and yticks.\n",
       "colormap : str or matplotlib colormap object, default None\n",
       "    Colormap to select colors from. If string, load colormap with that\n",
       "    name from matplotlib.\n",
       "colorbar : bool, optional\n",
       "    If True, plot colorbar (only relevant for 'scatter' and 'hexbin'\n",
       "    plots).\n",
       "position : float\n",
       "    Specify relative alignments for bar plot layout.\n",
       "    From 0 (left/bottom-end) to 1 (right/top-end). Default is 0.5\n",
       "    (center).\n",
       "table : bool, Series or DataFrame, default False\n",
       "    If True, draw a table using the data in the DataFrame and the data\n",
       "    will be transposed to meet matplotlib's default layout.\n",
       "    If a Series or DataFrame is passed, use passed data to draw a\n",
       "    table.\n",
       "yerr : DataFrame, Series, array-like, dict and str\n",
       "    See :ref:`Plotting with Error Bars <visualization.errorbars>` for\n",
       "    detail.\n",
       "xerr : DataFrame, Series, array-like, dict and str\n",
       "    Equivalent to yerr.\n",
       "mark_right : bool, default True\n",
       "    When using a secondary_y axis, automatically mark the column\n",
       "    labels with \"(right)\" in the legend.\n",
       "include_bool : bool, default is False\n",
       "    If True, boolean values can be plotted.\n",
       "backend : str, default None\n",
       "    Backend to use instead of the backend specified in the option\n",
       "    ``plotting.backend``. For instance, 'matplotlib'. Alternatively, to\n",
       "    specify the ``plotting.backend`` for the whole session, set\n",
       "    ``pd.options.plotting.backend``.\n",
       "\n",
       "    .. versionadded:: 1.0.0\n",
       "\n",
       "**kwargs\n",
       "    Options to pass to matplotlib plotting method.\n",
       "\n",
       "Returns\n",
       "-------\n",
       ":class:`matplotlib.axes.Axes` or numpy.ndarray of them\n",
       "    If the backend is not the default matplotlib one, the return value\n",
       "    will be the object returned by the backend.\n",
       "\n",
       "Notes\n",
       "-----\n",
       "- See matplotlib documentation online for more on this subject\n",
       "- If `kind` = 'bar' or 'barh', you can specify relative alignments\n",
       "  for bar plot layout by `position` keyword.\n",
       "  From 0 (left/bottom-end) to 1 (right/top-end). Default is 0.5\n",
       "  (center)\n",
       "\u001b[0;31mCall docstring:\u001b[0m\n",
       "Make plots of Series or DataFrame.\n",
       "\n",
       "Uses the backend specified by the\n",
       "option ``plotting.backend``. By default, matplotlib is used.\n",
       "\n",
       "Parameters\n",
       "----------\n",
       "data : Series or DataFrame\n",
       "    The object for which the method is called.\n",
       "x : label or position, default None\n",
       "    Only used if data is a DataFrame.\n",
       "y : label, position or list of label, positions, default None\n",
       "    Allows plotting of one column versus another. Only used if data is a\n",
       "    DataFrame.\n",
       "kind : str\n",
       "    The kind of plot to produce:\n",
       "\n",
       "    - 'line' : line plot (default)\n",
       "    - 'bar' : vertical bar plot\n",
       "    - 'barh' : horizontal bar plot\n",
       "    - 'hist' : histogram\n",
       "    - 'box' : boxplot\n",
       "    - 'kde' : Kernel Density Estimation plot\n",
       "    - 'density' : same as 'kde'\n",
       "    - 'area' : area plot\n",
       "    - 'pie' : pie plot\n",
       "    - 'scatter' : scatter plot\n",
       "    - 'hexbin' : hexbin plot.\n",
       "\n",
       "figsize : a tuple (width, height) in inches\n",
       "use_index : bool, default True\n",
       "    Use index as ticks for x axis.\n",
       "title : str or list\n",
       "    Title to use for the plot. If a string is passed, print the string\n",
       "    at the top of the figure. If a list is passed and `subplots` is\n",
       "    True, print each item in the list above the corresponding subplot.\n",
       "grid : bool, default None (matlab style default)\n",
       "    Axis grid lines.\n",
       "legend : bool or {'reverse'}\n",
       "    Place legend on axis subplots.\n",
       "style : list or dict\n",
       "    The matplotlib line style per column.\n",
       "logx : bool or 'sym', default False\n",
       "    Use log scaling or symlog scaling on x axis.\n",
       "    .. versionchanged:: 0.25.0\n",
       "\n",
       "logy : bool or 'sym' default False\n",
       "    Use log scaling or symlog scaling on y axis.\n",
       "    .. versionchanged:: 0.25.0\n",
       "\n",
       "loglog : bool or 'sym', default False\n",
       "    Use log scaling or symlog scaling on both x and y axes.\n",
       "    .. versionchanged:: 0.25.0\n",
       "\n",
       "xticks : sequence\n",
       "    Values to use for the xticks.\n",
       "yticks : sequence\n",
       "    Values to use for the yticks.\n",
       "xlim : 2-tuple/list\n",
       "ylim : 2-tuple/list\n",
       "rot : int, default None\n",
       "    Rotation for ticks (xticks for vertical, yticks for horizontal\n",
       "    plots).\n",
       "fontsize : int, default None\n",
       "    Font size for xticks and yticks.\n",
       "colormap : str or matplotlib colormap object, default None\n",
       "    Colormap to select colors from. If string, load colormap with that\n",
       "    name from matplotlib.\n",
       "colorbar : bool, optional\n",
       "    If True, plot colorbar (only relevant for 'scatter' and 'hexbin'\n",
       "    plots).\n",
       "position : float\n",
       "    Specify relative alignments for bar plot layout.\n",
       "    From 0 (left/bottom-end) to 1 (right/top-end). Default is 0.5\n",
       "    (center).\n",
       "table : bool, Series or DataFrame, default False\n",
       "    If True, draw a table using the data in the DataFrame and the data\n",
       "    will be transposed to meet matplotlib's default layout.\n",
       "    If a Series or DataFrame is passed, use passed data to draw a\n",
       "    table.\n",
       "yerr : DataFrame, Series, array-like, dict and str\n",
       "    See :ref:`Plotting with Error Bars <visualization.errorbars>` for\n",
       "    detail.\n",
       "xerr : DataFrame, Series, array-like, dict and str\n",
       "    Equivalent to yerr.\n",
       "mark_right : bool, default True\n",
       "    When using a secondary_y axis, automatically mark the column\n",
       "    labels with \"(right)\" in the legend.\n",
       "include_bool : bool, default is False\n",
       "    If True, boolean values can be plotted.\n",
       "backend : str, default None\n",
       "    Backend to use instead of the backend specified in the option\n",
       "    ``plotting.backend``. For instance, 'matplotlib'. Alternatively, to\n",
       "    specify the ``plotting.backend`` for the whole session, set\n",
       "    ``pd.options.plotting.backend``.\n",
       "\n",
       "    .. versionadded:: 1.0.0\n",
       "\n",
       "**kwargs\n",
       "    Options to pass to matplotlib plotting method.\n",
       "\n",
       "Returns\n",
       "-------\n",
       ":class:`matplotlib.axes.Axes` or numpy.ndarray of them\n",
       "    If the backend is not the default matplotlib one, the return value\n",
       "    will be the object returned by the backend.\n",
       "\n",
       "Notes\n",
       "-----\n",
       "- See matplotlib documentation online for more on this subject\n",
       "- If `kind` = 'bar' or 'barh', you can specify relative alignments\n",
       "  for bar plot layout by `position` keyword.\n",
       "  From 0 (left/bottom-end) to 1 (right/top-end). Default is 0.5\n",
       "  (center)\n"
      ]
     },
     "metadata": {},
     "output_type": "display_data"
    }
   ],
   "source": [
    "df_band_hour.plot?"
   ]
  },
  {
   "cell_type": "code",
   "execution_count": null,
   "metadata": {},
   "outputs": [],
   "source": []
  }
 ],
 "metadata": {
  "kernelspec": {
   "display_name": "py38",
   "language": "python",
   "name": "py38"
  },
  "language_info": {
   "codemirror_mode": {
    "name": "ipython",
    "version": 3
   },
   "file_extension": ".py",
   "mimetype": "text/x-python",
   "name": "python",
   "nbconvert_exporter": "python",
   "pygments_lexer": "ipython3",
   "version": "3.8.1"
  }
 },
 "nbformat": 4,
 "nbformat_minor": 4
}
